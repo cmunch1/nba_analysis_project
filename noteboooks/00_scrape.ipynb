{
 "cells": [
  {
   "attachments": {},
   "cell_type": "markdown",
   "id": "84b66379",
   "metadata": {},
   "source": [
    "Initial scrape and testing. Set FULL_SCRAPE = True to re-scrape all the data from the START_SEASON (2006). If set to False, then it will try to determine the last date scraped and only scrape the new data."
   ]
  },
  {
   "cell_type": "code",
   "execution_count": 1,
   "id": "2f0c58a3-8738-42ad-be18-8e13c171108f",
   "metadata": {},
   "outputs": [],
   "source": [
    "import os\n",
    "\n",
    "import pandas as pd\n",
    "\n",
    "\n",
    "from datetime import datetime, timedelta\n",
    "from pytz import timezone\n",
    "\n",
    "# change working directory to project root when running from notebooks folder to make it easier to import modules\n",
    "# and to access sibling folders\n",
    "os.chdir('..') \n",
    "\n",
    "\n",
    "from src.webscraping import (\n",
    "    determine_scrape_start,\n",
    "    activate_web_driver,\n",
    "    load_scraped_data,\n",
    "    scrape_to_dataframe,\n",
    "    scrape_sub_seasons,\n",
    "    validate_scraped_dataframes,\n",
    ")\n",
    "\n",
    "from pathlib import Path  #for Windows/Linux compatibility\n",
    "DATAPATH = Path(r'data')\n",
    "NEWLY_SCRAPED_PATH = DATAPATH / 'newly_scraped'"
   ]
  },
  {
   "cell_type": "code",
   "execution_count": null,
   "id": "abcb9c7a",
   "metadata": {},
   "outputs": [],
   "source": []
  },
  {
   "cell_type": "code",
   "execution_count": 2,
   "id": "2e13866f",
   "metadata": {},
   "outputs": [],
   "source": [
    "FULL_SCRAPE = False # set to True to scrape all seasons, False to scrape from where the last scrape left off\n",
    "START_SEASON = 2006  # start season for scraping if FULL_SCRAPE is TRUE (some seasons prior to 2006 may be missing some of the additional stats)\n",
    "\n",
    "#nba.com serves 5 different boxscore screens - 'traditional', 'advanced', 'four-factors', 'misc', 'scoring'\n",
    "STAT_TYPES = ['traditional', 'advanced', 'four-factors', 'misc', 'scoring']  \n",
    "\n"
   ]
  },
  {
   "attachments": {},
   "cell_type": "markdown",
   "id": "a4825c8d",
   "metadata": {},
   "source": [
    "**Determine How current is the existing data**"
   ]
  },
  {
   "cell_type": "code",
   "execution_count": 3,
   "id": "2d92fcf3",
   "metadata": {},
   "outputs": [
    {
     "name": "stderr",
     "output_type": "stream",
     "text": [
      "e:\\OneDrive\\nba_analysis_project\\src\\webscraping.py:58: DtypeWarning: Columns (14) have mixed types. Specify dtype option on import or set low_memory=False.\n",
      "  df = pd.read_csv(scraped_path / file)\n"
     ]
    },
    {
     "name": "stdout",
     "output_type": "stream",
     "text": [
      "Last date in dataset:  2024-05-10 00:00:00\n",
      "Last season in dataset:  2023\n",
      "Current season:  2023\n",
      "Seasons to scrape:  ['2023-24']\n",
      "Start date:  05/11/2024\n"
     ]
    }
   ],
   "source": [
    "\n",
    "if FULL_SCRAPE:\n",
    "    # scrape all seasons from START_SEASON to current season\n",
    "\n",
    "    seasons = list(range(START_SEASON, datetime.now().year))\n",
    "    seasons = [str(season) + \"-\" + (str(season + 1))[-2:] for season in seasons]  # format season as '2006-07' which is required for nba.com advanced boxscores\n",
    "\n",
    "    first_start_date = \"10/1/\" + str(START_SEASON)  #usually starts in October\n",
    "     \n",
    "else:\n",
    "    # determine where to start scraping\n",
    "    \n",
    "    scraped_data = [] #list of dataframes\n",
    "    scraped_data = load_scraped_data(new=False)\n",
    "\n",
    "    # check the latest game in the dataset to see what needs to be scraped\n",
    "    first_start_date, seasons = determine_scrape_start(scraped_data)\n",
    "\n",
    "    if first_start_date is None:\n",
    "        print(\"Error - previous scraped data has inconsistent dates\")\n",
    "        exit()\n",
    "\n",
    "\n",
    "\n"
   ]
  },
  {
   "attachments": {},
   "cell_type": "markdown",
   "id": "ad69f00b",
   "metadata": {},
   "source": [
    "**Activate Webdriver**"
   ]
  },
  {
   "cell_type": "code",
   "execution_count": 4,
   "id": "184930c3",
   "metadata": {},
   "outputs": [],
   "source": [
    "driver = activate_web_driver('chromium')\n",
    "    "
   ]
  },
  {
   "attachments": {},
   "cell_type": "markdown",
   "id": "2f29eac3-4b58-4a07-bdba-b4c72cb491ec",
   "metadata": {},
   "source": [
    "**Scrape and Save New Completed Games**"
   ]
  },
  {
   "cell_type": "code",
   "execution_count": 5,
   "id": "8b60ded9",
   "metadata": {},
   "outputs": [
    {
     "name": "stdout",
     "output_type": "stream",
     "text": [
      "Scraping 2023-24 from 05/11/2024 to 08/01/2024 for traditional stats\n",
      "Scraping https://www.nba.com/stats/teams/boxscores?SeasonType=Regular+Season&Season=2023-24&DateFrom=05/11/2024&DateTo=08/01/2024\n",
      "No data found\n",
      "Scraping https://www.nba.com/stats/teams/boxscores?SeasonType=PlayIn&Season=2023-24&DateFrom=05/11/2024&DateTo=08/01/2024\n",
      "No data found\n",
      "Scraping https://www.nba.com/stats/teams/boxscores?SeasonType=Playoffs&Season=2023-24&DateFrom=05/11/2024&DateTo=08/01/2024\n"
     ]
    },
    {
     "name": "stderr",
     "output_type": "stream",
     "text": [
      "e:\\OneDrive\\nba_analysis_project\\src\\webscraping.py:379: FutureWarning: Passing literal html to 'read_html' is deprecated and will be removed in a future version. To read from a literal string, wrap it in a 'StringIO' object.\n",
      "  dfs = pd.read_html(str(data_table), header=0)\n"
     ]
    },
    {
     "name": "stdout",
     "output_type": "stream",
     "text": [
      "Saving games_traditional.csv\n",
      "\n",
      "Scraping 2023-24 from 05/11/2024 to 08/01/2024 for advanced stats\n",
      "Scraping https://www.nba.com/stats/teams/boxscores-advanced?SeasonType=Regular+Season&Season=2023-24&DateFrom=05/11/2024&DateTo=08/01/2024\n",
      "No data found\n",
      "Scraping https://www.nba.com/stats/teams/boxscores-advanced?SeasonType=PlayIn&Season=2023-24&DateFrom=05/11/2024&DateTo=08/01/2024\n",
      "No data found\n",
      "Scraping https://www.nba.com/stats/teams/boxscores-advanced?SeasonType=Playoffs&Season=2023-24&DateFrom=05/11/2024&DateTo=08/01/2024\n"
     ]
    },
    {
     "name": "stderr",
     "output_type": "stream",
     "text": [
      "e:\\OneDrive\\nba_analysis_project\\src\\webscraping.py:379: FutureWarning: Passing literal html to 'read_html' is deprecated and will be removed in a future version. To read from a literal string, wrap it in a 'StringIO' object.\n",
      "  dfs = pd.read_html(str(data_table), header=0)\n"
     ]
    },
    {
     "name": "stdout",
     "output_type": "stream",
     "text": [
      "Saving games_advanced.csv\n",
      "\n",
      "Scraping 2023-24 from 05/11/2024 to 08/01/2024 for four-factors stats\n",
      "Scraping https://www.nba.com/stats/teams/boxscores-four-factors?SeasonType=Regular+Season&Season=2023-24&DateFrom=05/11/2024&DateTo=08/01/2024\n",
      "No data found\n",
      "Scraping https://www.nba.com/stats/teams/boxscores-four-factors?SeasonType=PlayIn&Season=2023-24&DateFrom=05/11/2024&DateTo=08/01/2024\n",
      "No data found\n",
      "Scraping https://www.nba.com/stats/teams/boxscores-four-factors?SeasonType=Playoffs&Season=2023-24&DateFrom=05/11/2024&DateTo=08/01/2024\n"
     ]
    },
    {
     "name": "stderr",
     "output_type": "stream",
     "text": [
      "e:\\OneDrive\\nba_analysis_project\\src\\webscraping.py:379: FutureWarning: Passing literal html to 'read_html' is deprecated and will be removed in a future version. To read from a literal string, wrap it in a 'StringIO' object.\n",
      "  dfs = pd.read_html(str(data_table), header=0)\n"
     ]
    },
    {
     "name": "stdout",
     "output_type": "stream",
     "text": [
      "Saving games_four-factors.csv\n",
      "\n",
      "Scraping 2023-24 from 05/11/2024 to 08/01/2024 for misc stats\n",
      "Scraping https://www.nba.com/stats/teams/boxscores-misc?SeasonType=Regular+Season&Season=2023-24&DateFrom=05/11/2024&DateTo=08/01/2024\n",
      "No data found\n",
      "Scraping https://www.nba.com/stats/teams/boxscores-misc?SeasonType=PlayIn&Season=2023-24&DateFrom=05/11/2024&DateTo=08/01/2024\n",
      "No data found\n",
      "Scraping https://www.nba.com/stats/teams/boxscores-misc?SeasonType=Playoffs&Season=2023-24&DateFrom=05/11/2024&DateTo=08/01/2024\n"
     ]
    },
    {
     "name": "stderr",
     "output_type": "stream",
     "text": [
      "e:\\OneDrive\\nba_analysis_project\\src\\webscraping.py:379: FutureWarning: Passing literal html to 'read_html' is deprecated and will be removed in a future version. To read from a literal string, wrap it in a 'StringIO' object.\n",
      "  dfs = pd.read_html(str(data_table), header=0)\n"
     ]
    },
    {
     "name": "stdout",
     "output_type": "stream",
     "text": [
      "Saving games_misc.csv\n",
      "\n",
      "Scraping 2023-24 from 05/11/2024 to 08/01/2024 for scoring stats\n",
      "Scraping https://www.nba.com/stats/teams/boxscores-scoring?SeasonType=Regular+Season&Season=2023-24&DateFrom=05/11/2024&DateTo=08/01/2024\n",
      "No data found\n",
      "Scraping https://www.nba.com/stats/teams/boxscores-scoring?SeasonType=PlayIn&Season=2023-24&DateFrom=05/11/2024&DateTo=08/01/2024\n",
      "No data found\n",
      "Scraping https://www.nba.com/stats/teams/boxscores-scoring?SeasonType=Playoffs&Season=2023-24&DateFrom=05/11/2024&DateTo=08/01/2024\n",
      "Saving games_scoring.csv\n",
      "\n"
     ]
    },
    {
     "name": "stderr",
     "output_type": "stream",
     "text": [
      "e:\\OneDrive\\nba_analysis_project\\src\\webscraping.py:379: FutureWarning: Passing literal html to 'read_html' is deprecated and will be removed in a future version. To read from a literal string, wrap it in a 'StringIO' object.\n",
      "  dfs = pd.read_html(str(data_table), header=0)\n"
     ]
    }
   ],
   "source": [
    "\n",
    "for stat_type in STAT_TYPES:\n",
    "    \n",
    "    new_games = pd.DataFrame()\n",
    "    df_season = pd.DataFrame()\n",
    "    \n",
    "    # if there are multiple seasons, start date will be reset to the beginning of the next season,\n",
    "    # so we need to keep track of the original start date because we are scraping multiple stats categories, each with their own seasons\n",
    "    start_date = first_start_date \n",
    "\n",
    "    for season in seasons:\n",
    "        season_year = int(season[:4])    \n",
    "        end_date = \"08/01/\" + str(season_year+1)  # use August 1st to get all games from the current season\n",
    "        df_season = scrape_sub_seasons(driver, str(season), str(start_date), str(end_date), stat_type)\n",
    "        new_games = pd.concat([new_games, df_season], axis=0)\n",
    "        start_date = \"08/01/\" + str(season_year+1)  #if more than 1 season, reset start date to beginning of next season\n",
    "\n",
    "    file_name = \"games_\" + stat_type + \".csv\"\n",
    "    print(f\"Saving {file_name}\")\n",
    "    print()\n",
    "    new_games.to_csv(NEWLY_SCRAPED_PATH / file_name, index=False)\n"
   ]
  },
  {
   "attachments": {},
   "cell_type": "markdown",
   "id": "3aef12e5",
   "metadata": {},
   "source": [
    "**Close Webdriver**"
   ]
  },
  {
   "cell_type": "code",
   "execution_count": 6,
   "id": "5766c712",
   "metadata": {},
   "outputs": [],
   "source": [
    "driver.close() "
   ]
  },
  {
   "cell_type": "markdown",
   "id": "d188b69f",
   "metadata": {},
   "source": [
    "**Reload and Validate the Scraped Data**\n"
   ]
  },
  {
   "cell_type": "code",
   "execution_count": 7,
   "id": "a9ca7f7a",
   "metadata": {},
   "outputs": [
    {
     "name": "stdout",
     "output_type": "stream",
     "text": [
      "All scraped dataframes are consistent\n"
     ]
    }
   ],
   "source": [
    "scraped_data = load_scraped_data(new=True)\n",
    "\n",
    "response = validate_scraped_dataframes(scraped_data)\n",
    "\n",
    "if response == \"Pass\":\n",
    "    print(\"All scraped dataframes are consistent\")\n",
    "else:\n",
    "    print(\"Error - scraped dataframes are inconsistent\")\n",
    "    print(response)"
   ]
  }
 ],
 "metadata": {
  "kernelspec": {
   "display_name": "nba3",
   "language": "python",
   "name": "python3"
  },
  "language_info": {
   "codemirror_mode": {
    "name": "ipython",
    "version": 3
   },
   "file_extension": ".py",
   "mimetype": "text/x-python",
   "name": "python",
   "nbconvert_exporter": "python",
   "pygments_lexer": "ipython3",
   "version": "3.11.9"
  },
  "vscode": {
   "interpreter": {
    "hash": "4655998f62ad965cbd25df51edb717f2326f5df53d53899f0ae604225aa5ae06"
   }
  }
 },
 "nbformat": 4,
 "nbformat_minor": 5
}
