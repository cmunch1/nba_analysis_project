{
 "cells": [
  {
   "attachments": {},
   "cell_type": "markdown",
   "id": "84b66379",
   "metadata": {},
   "source": [
    "Initial scrape and testing. Set FULL_SCRAPE = True to re-scrape all the data from the START_SEASON (2006). If set to False, then it will try to determine the last date scraped and only scrape the new data."
   ]
  },
  {
   "cell_type": "code",
   "execution_count": 1,
   "id": "2f0c58a3-8738-42ad-be18-8e13c171108f",
   "metadata": {},
   "outputs": [],
   "source": [
    "import os\n",
    "\n",
    "import pandas as pd\n",
    "\n",
    "\n",
    "from datetime import datetime, timedelta\n",
    "from pytz import timezone\n",
    "\n",
    "# change working directory to project root when running from notebooks folder to make it easier to import modules\n",
    "# and to access sibling folders\n",
    "os.chdir('..') \n",
    "\n",
    "\n",
    "from src.webscraping import (\n",
    "\n",
    "    activate_web_driver,\n",
    "    get_todays_matchups,\n",
    "\n",
    ")\n",
    "\n",
    "from pathlib import Path  #for Windows/Linux compatibility\n",
    "DATAPATH = Path(r'data')\n",
    "NEWLY_SCRAPED_PATH = DATAPATH / 'newly_scraped'"
   ]
  },
  {
   "cell_type": "code",
   "execution_count": null,
   "id": "abcb9c7a",
   "metadata": {},
   "outputs": [],
   "source": []
  },
  {
   "attachments": {},
   "cell_type": "markdown",
   "id": "ad69f00b",
   "metadata": {},
   "source": [
    "**Activate Webdriver**"
   ]
  },
  {
   "cell_type": "code",
   "execution_count": 2,
   "id": "184930c3",
   "metadata": {},
   "outputs": [],
   "source": [
    "driver = activate_web_driver('chromium')\n",
    "    "
   ]
  },
  {
   "attachments": {},
   "cell_type": "markdown",
   "id": "2f29eac3-4b58-4a07-bdba-b4c72cb491ec",
   "metadata": {},
   "source": [
    "**Scrape and Save New Completed Games**"
   ]
  },
  {
   "cell_type": "code",
   "execution_count": 3,
   "id": "206431b1",
   "metadata": {},
   "outputs": [
    {
     "name": "stdout",
     "output_type": "stream",
     "text": [
      "Found games for: Mon\n",
      "Found games for: Thu\n",
      "Found games for: Sun\n",
      "No games found for today\n"
     ]
    }
   ],
   "source": [
    "matchups = []\n",
    "games = []\n",
    "\n",
    "matchups, games = get_todays_matchups(driver)\n",
    "\n",
    "driver.quit()\n",
    "\n",
    "# save the data to a csv file - will be empty if no games are scheduled for today\n",
    "matchups = pd.DataFrame(matchups)\n",
    "games = pd.DataFrame(games)\n",
    "matchups.to_csv(NEWLY_SCRAPED_PATH / 'todays_matchups.csv', index=False)\n",
    "games.to_csv(NEWLY_SCRAPED_PATH / 'todays_games.csv', index=False)\n",
    "\n"
   ]
  },
  {
   "attachments": {},
   "cell_type": "markdown",
   "id": "3aef12e5",
   "metadata": {},
   "source": [
    "**Close Webdriver**"
   ]
  },
  {
   "cell_type": "code",
   "execution_count": null,
   "id": "5766c712",
   "metadata": {},
   "outputs": [],
   "source": []
  },
  {
   "cell_type": "markdown",
   "id": "d188b69f",
   "metadata": {},
   "source": [
    "**Reload and Validate the Scraped Data**\n"
   ]
  }
 ],
 "metadata": {
  "kernelspec": {
   "display_name": "nba3",
   "language": "python",
   "name": "python3"
  },
  "language_info": {
   "codemirror_mode": {
    "name": "ipython",
    "version": 3
   },
   "file_extension": ".py",
   "mimetype": "text/x-python",
   "name": "python",
   "nbconvert_exporter": "python",
   "pygments_lexer": "ipython3",
   "version": "3.11.9"
  },
  "vscode": {
   "interpreter": {
    "hash": "4655998f62ad965cbd25df51edb717f2326f5df53d53899f0ae604225aa5ae06"
   }
  }
 },
 "nbformat": 4,
 "nbformat_minor": 5
}
